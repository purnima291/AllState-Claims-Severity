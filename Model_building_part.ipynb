{
 "cells": [
  {
   "cell_type": "code",
   "execution_count": 1,
   "metadata": {},
   "outputs": [],
   "source": [
    "import pandas as pd\n",
    "import numpy as np\n",
    "import pickle\n",
    "from sklearn.linear_model import LinearRegression, ElasticNet\n",
    "from sklearn.metrics import mean_absolute_error\n",
    "import xgboost as xgb\n",
    "from sklearn.svm import SVR\n",
    "from sklearn.preprocessing import MaxAbsScaler\n",
    "from sklearn.feature_selection import SelectKBest, f_regression\n",
    "from sklearn.model_selection import GridSearchCV\n",
    "from skopt.space import Real, Integer\n",
    "from skopt.utils import use_named_args\n",
    "from skopt import gp_minimize\n",
    "from sklearn.model_selection import cross_val_score"
   ]
  },
  {
   "cell_type": "code",
   "execution_count": 2,
   "metadata": {},
   "outputs": [],
   "source": [
    "df = pd.read_csv('train.csv')\n",
    "submission = pd.read_csv('sample_submission.csv')"
   ]
  },
  {
   "cell_type": "markdown",
   "metadata": {},
   "source": [
    "## Loading datasets with Bigram and Trigram features"
   ]
  },
  {
   "cell_type": "code",
   "execution_count": 5,
   "metadata": {},
   "outputs": [
    {
     "name": "stdout",
     "output_type": "stream",
     "text": [
      "Shape of train data: (188318, 4373)\n",
      "Shape of test data: (125546, 4373)\n"
     ]
    }
   ],
   "source": [
    "with open('bigram_bow_train.pkl','rb') as f:\n",
    "    train_bigram = pickle.load(f)\n",
    "    \n",
    "with open('bigram_bow_test.pkl','rb') as f:\n",
    "    test_bigram = pickle.load(f)\n",
    "    \n",
    "print('Shape of train data:',train_bigram.shape)\n",
    "print('Shape of test data:',test_bigram.shape)"
   ]
  },
  {
   "cell_type": "code",
   "execution_count": 3,
   "metadata": {},
   "outputs": [
    {
     "name": "stdout",
     "output_type": "stream",
     "text": [
      "Shape of train data: (188318, 37458)\n",
      "Shape of test data: (125546, 37458)\n"
     ]
    }
   ],
   "source": [
    "with open('trigram_bow_train.pkl','rb') as f:\n",
    "    train_trigram = pickle.load(f)\n",
    "    \n",
    "with open('trigram_bow_test.pkl','rb') as f:\n",
    "    test_trigram = pickle.load(f)\n",
    "    \n",
    "print('Shape of train data:',train_trigram.shape)\n",
    "print('Shape of test data:',test_trigram.shape)"
   ]
  },
  {
   "cell_type": "markdown",
   "metadata": {},
   "source": [
    "## Setting Benchmark Score\n",
    "\n",
    "Our metrics Mean Absolute Error(MAE)  can take value from 0 to infinity. To evaluate, how a model is performing, it is good if I can establish some bench mark score.  "
   ]
  },
  {
   "cell_type": "code",
   "execution_count": 6,
   "metadata": {},
   "outputs": [
    {
     "name": "stdout",
     "output_type": "stream",
     "text": [
      "Benchmark score:  1966.1652855607203\n"
     ]
    }
   ],
   "source": [
    "y = df['loss']\n",
    "mean_loss  = np.empty(train_bigram.shape[0])\n",
    "mean_loss.fill(y.mean())\n",
    "print('Benchmark score: ',mean_absolute_error(y,mean_loss))"
   ]
  },
  {
   "cell_type": "markdown",
   "metadata": {},
   "source": [
    "## 1. Bigram Features( With 1000 features)\n",
    "## 1.1 Linear Regression"
   ]
  },
  {
   "cell_type": "code",
   "execution_count": 5,
   "metadata": {},
   "outputs": [
    {
     "name": "stdout",
     "output_type": "stream",
     "text": [
      "Shape of train data: (188318, 1000)\n",
      "Shape of test data: (125546, 1000)\n"
     ]
    }
   ],
   "source": [
    "# Selecting 1000 best features:\n",
    "skb = SelectKBest(k=1000, score_func=f_regression)\n",
    "train_bigram = skb.fit_transform(train_bigram,y)\n",
    "test_bigram = skb.transform(test_bigram)\n",
    "\n",
    "print('Shape of train data:',train_bigram.shape)\n",
    "print('Shape of test data:',test_bigram.shape)"
   ]
  },
  {
   "cell_type": "code",
   "execution_count": 6,
   "metadata": {},
   "outputs": [
    {
     "name": "stdout",
     "output_type": "stream",
     "text": [
      "Shape of train data: (188318, 1000)\n",
      "Shape of test data: (125546, 1000)\n"
     ]
    }
   ],
   "source": [
    "scaler = MaxAbsScaler()\n",
    "scaled_train = scaler.fit_transform(train_bigram)\n",
    "scaled_test = scaler.transform(test_bigram)\n",
    "print('Shape of train data:',scaled_train.shape)\n",
    "print('Shape of test data:',scaled_test.shape)"
   ]
  },
  {
   "cell_type": "code",
   "execution_count": 10,
   "metadata": {},
   "outputs": [],
   "source": [
    "y = np.log(y)"
   ]
  },
  {
   "cell_type": "code",
   "execution_count": 11,
   "metadata": {},
   "outputs": [
    {
     "name": "stdout",
     "output_type": "stream",
     "text": [
      "Mean Absolute Error from Linear Regression:  1347.9274656658147\n"
     ]
    }
   ],
   "source": [
    "model = LinearRegression()\n",
    "model.fit(scaled_train, y) \n",
    "y_pred = np.exp(model.predict(scaled_train))\n",
    "print('Mean Absolute Error from Linear Regression: ',mean_absolute_error(np.exp(y),y_pred))"
   ]
  },
  {
   "cell_type": "markdown",
   "metadata": {},
   "source": [
    "## 1.2 ElasticNet"
   ]
  },
  {
   "cell_type": "code",
   "execution_count": null,
   "metadata": {
    "scrolled": true
   },
   "outputs": [
    {
     "name": "stderr",
     "output_type": "stream",
     "text": [
      "c:\\purnima\\myworkspace\\lib\\site-packages\\sklearn\\linear_model\\_coordinate_descent.py:512: ConvergenceWarning: Objective did not converge. You might want to increase the number of iterations. Duality gap: 30998.658930708283, tolerance: 10.333635506777263\n",
      "  model = cd_fast.sparse_enet_coordinate_descent(\n",
      "c:\\purnima\\myworkspace\\lib\\site-packages\\sklearn\\linear_model\\_coordinate_descent.py:512: ConvergenceWarning: Objective did not converge. You might want to increase the number of iterations. Duality gap: 31105.22826859448, tolerance: 10.34681024584836\n",
      "  model = cd_fast.sparse_enet_coordinate_descent(\n",
      "c:\\purnima\\myworkspace\\lib\\site-packages\\sklearn\\linear_model\\_coordinate_descent.py:512: ConvergenceWarning: Objective did not converge. You might want to increase the number of iterations. Duality gap: 31080.731355560336, tolerance: 10.340900810556754\n",
      "  model = cd_fast.sparse_enet_coordinate_descent(\n",
      "c:\\purnima\\myworkspace\\lib\\site-packages\\sklearn\\linear_model\\_coordinate_descent.py:512: ConvergenceWarning: Objective did not converge. You might want to increase the number of iterations. Duality gap: 30997.1551904676, tolerance: 10.333745441313356\n",
      "  model = cd_fast.sparse_enet_coordinate_descent(\n",
      "c:\\purnima\\myworkspace\\lib\\site-packages\\sklearn\\linear_model\\_coordinate_descent.py:512: ConvergenceWarning: Objective did not converge. You might want to increase the number of iterations. Duality gap: 31029.718640995186, tolerance: 10.345862642736002\n",
      "  model = cd_fast.sparse_enet_coordinate_descent(\n",
      "c:\\purnima\\myworkspace\\lib\\site-packages\\sklearn\\linear_model\\_coordinate_descent.py:512: ConvergenceWarning: Objective did not converge. You might want to increase the number of iterations. Duality gap: 31103.8053184553, tolerance: 10.361703499106655\n",
      "  model = cd_fast.sparse_enet_coordinate_descent(\n",
      "c:\\purnima\\myworkspace\\lib\\site-packages\\sklearn\\linear_model\\_coordinate_descent.py:512: ConvergenceWarning: Objective did not converge. You might want to increase the number of iterations. Duality gap: 36111.79242101317, tolerance: 10.333635506777263\n",
      "  model = cd_fast.sparse_enet_coordinate_descent(\n",
      "c:\\purnima\\myworkspace\\lib\\site-packages\\sklearn\\linear_model\\_coordinate_descent.py:512: ConvergenceWarning: Objective did not converge. You might want to increase the number of iterations. Duality gap: 36212.2943440999, tolerance: 10.34681024584836\n",
      "  model = cd_fast.sparse_enet_coordinate_descent(\n",
      "c:\\purnima\\myworkspace\\lib\\site-packages\\sklearn\\linear_model\\_coordinate_descent.py:512: ConvergenceWarning: Objective did not converge. You might want to increase the number of iterations. Duality gap: 36174.53816891892, tolerance: 10.340900810556754\n",
      "  model = cd_fast.sparse_enet_coordinate_descent(\n",
      "c:\\purnima\\myworkspace\\lib\\site-packages\\sklearn\\linear_model\\_coordinate_descent.py:512: ConvergenceWarning: Objective did not converge. You might want to increase the number of iterations. Duality gap: 36114.68912479769, tolerance: 10.333745441313356\n",
      "  model = cd_fast.sparse_enet_coordinate_descent(\n",
      "c:\\purnima\\myworkspace\\lib\\site-packages\\sklearn\\linear_model\\_coordinate_descent.py:512: ConvergenceWarning: Objective did not converge. You might want to increase the number of iterations. Duality gap: 36154.46949426819, tolerance: 10.345862642736002\n",
      "  model = cd_fast.sparse_enet_coordinate_descent(\n",
      "c:\\purnima\\myworkspace\\lib\\site-packages\\sklearn\\linear_model\\_coordinate_descent.py:512: ConvergenceWarning: Objective did not converge. You might want to increase the number of iterations. Duality gap: 36219.986635759466, tolerance: 10.361703499106655\n",
      "  model = cd_fast.sparse_enet_coordinate_descent(\n",
      "c:\\purnima\\myworkspace\\lib\\site-packages\\sklearn\\linear_model\\_coordinate_descent.py:512: ConvergenceWarning: Objective did not converge. You might want to increase the number of iterations. Duality gap: 46204.408316067136, tolerance: 10.333635506777263\n",
      "  model = cd_fast.sparse_enet_coordinate_descent(\n"
     ]
    }
   ],
   "source": [
    "# params = {'l1_ratio':[0,0.1,0.3,0.4,0.5,0.6,0.7,0.8,0.9,1],\n",
    "#          'alpha':[0.001,0.01,0.1,1,10,100,1000]}\n",
    "# model = ElasticNet()\n",
    "# reg_model = GridSearchCV(model, param_grid=params, scoring='neg_mean_absolute_error', )\n",
    "# reg_model.fit(scaled_train,y)"
   ]
  },
  {
   "cell_type": "code",
   "execution_count": 8,
   "metadata": {},
   "outputs": [],
   "source": [
    "#Defining Search space\n",
    "#https://scikit-optimize.github.io/stable/modules/generated/skopt.space.space.Real.html\n",
    "space = [Real(0,1,name='l1_ratio'), Real(0.001,1000,prior='log-uniform', name='alpha')]\n",
    "# Defining model\n",
    "model = ElasticNet()\n",
    "#https://scikit-optimize.github.io/stable/auto_examples/hyperparameter-optimization.html\n",
    "@use_named_args(space)\n",
    "def objective(**params):\n",
    "    \n",
    "    model.set_params(**params)\n",
    "    score = cross_val_score(model,scaled_train, y, cv=5,n_jobs=-1,\n",
    "                            scoring='neg_mean_absolute_error')\n",
    "    return -np.mean(score)"
   ]
  },
  {
   "cell_type": "code",
   "execution_count": 10,
   "metadata": {
    "scrolled": true
   },
   "outputs": [
    {
     "name": "stdout",
     "output_type": "stream",
     "text": [
      "Iteration No: 1 started. Evaluating function at random point.\n",
      "Iteration No: 1 ended. Evaluation done at random point.\n",
      "Time taken: 4.7864\n",
      "Function value obtained: 0.6600\n",
      "Current minimum: 0.6600\n",
      "Iteration No: 2 started. Evaluating function at random point.\n",
      "Iteration No: 2 ended. Evaluation done at random point.\n",
      "Time taken: 3.9346\n",
      "Function value obtained: 0.6600\n",
      "Current minimum: 0.6600\n",
      "Iteration No: 3 started. Evaluating function at random point.\n",
      "Iteration No: 3 ended. Evaluation done at random point.\n",
      "Time taken: 3.7534\n",
      "Function value obtained: 0.6600\n",
      "Current minimum: 0.6600\n",
      "Iteration No: 4 started. Evaluating function at random point.\n",
      "Iteration No: 4 ended. Evaluation done at random point.\n",
      "Time taken: 2.1219\n",
      "Function value obtained: 0.6600\n",
      "Current minimum: 0.6600\n",
      "Iteration No: 5 started. Evaluating function at random point.\n",
      "Iteration No: 5 ended. Evaluation done at random point.\n",
      "Time taken: 2.1009\n",
      "Function value obtained: 0.6600\n",
      "Current minimum: 0.6600\n",
      "Iteration No: 6 started. Evaluating function at random point.\n",
      "Iteration No: 6 ended. Evaluation done at random point.\n",
      "Time taken: 2.1069\n",
      "Function value obtained: 0.6600\n",
      "Current minimum: 0.6600\n",
      "Iteration No: 7 started. Evaluating function at random point.\n",
      "Iteration No: 7 ended. Evaluation done at random point.\n",
      "Time taken: 3.7064\n",
      "Function value obtained: 0.5911\n",
      "Current minimum: 0.5911\n",
      "Iteration No: 8 started. Evaluating function at random point.\n",
      "Iteration No: 8 ended. Evaluation done at random point.\n",
      "Time taken: 2.1339\n",
      "Function value obtained: 0.6600\n",
      "Current minimum: 0.5911\n",
      "Iteration No: 9 started. Evaluating function at random point.\n",
      "Iteration No: 9 ended. Evaluation done at random point.\n",
      "Time taken: 2.1703\n",
      "Function value obtained: 0.6600\n",
      "Current minimum: 0.5911\n",
      "Iteration No: 10 started. Evaluating function at random point.\n",
      "Iteration No: 10 ended. Evaluation done at random point.\n",
      "Time taken: 2.5653\n",
      "Function value obtained: 0.6600\n",
      "Current minimum: 0.5911\n",
      "Iteration No: 11 started. Searching for the next optimal point.\n",
      "Iteration No: 11 ended. Search finished for the next optimal point.\n",
      "Time taken: 6.7981\n",
      "Function value obtained: 0.5186\n",
      "Current minimum: 0.5186\n",
      "Iteration No: 12 started. Searching for the next optimal point.\n",
      "Iteration No: 12 ended. Search finished for the next optimal point.\n",
      "Time taken: 10.1115\n",
      "Function value obtained: 0.4974\n",
      "Current minimum: 0.4974\n",
      "Iteration No: 13 started. Searching for the next optimal point.\n",
      "Iteration No: 13 ended. Search finished for the next optimal point.\n",
      "Time taken: 65.8439\n",
      "Function value obtained: 0.4910\n",
      "Current minimum: 0.4910\n",
      "Iteration No: 14 started. Searching for the next optimal point.\n",
      "Iteration No: 14 ended. Search finished for the next optimal point.\n",
      "Time taken: 894.9748\n",
      "Function value obtained: 0.4893\n",
      "Current minimum: 0.4893\n",
      "Iteration No: 15 started. Searching for the next optimal point.\n",
      "Iteration No: 15 ended. Search finished for the next optimal point.\n",
      "Time taken: 54.4796\n",
      "Function value obtained: 0.4899\n",
      "Current minimum: 0.4893\n",
      "Iteration No: 16 started. Searching for the next optimal point.\n"
     ]
    },
    {
     "name": "stderr",
     "output_type": "stream",
     "text": [
      "c:\\purnima\\myworkspace\\lib\\site-packages\\skopt\\optimizer\\optimizer.py:449: UserWarning: The objective has been evaluated at this point before.\n",
      "  warnings.warn(\"The objective has been evaluated \"\n"
     ]
    },
    {
     "name": "stdout",
     "output_type": "stream",
     "text": [
      "Iteration No: 16 ended. Search finished for the next optimal point.\n",
      "Time taken: 861.0186\n",
      "Function value obtained: 0.4893\n",
      "Current minimum: 0.4893\n",
      "Iteration No: 17 started. Searching for the next optimal point.\n",
      "Iteration No: 17 ended. Search finished for the next optimal point.\n",
      "Time taken: 53.6578\n",
      "Function value obtained: 0.5015\n",
      "Current minimum: 0.4893\n",
      "Iteration No: 18 started. Searching for the next optimal point.\n"
     ]
    },
    {
     "name": "stderr",
     "output_type": "stream",
     "text": [
      "c:\\purnima\\myworkspace\\lib\\site-packages\\skopt\\optimizer\\optimizer.py:449: UserWarning: The objective has been evaluated at this point before.\n",
      "  warnings.warn(\"The objective has been evaluated \"\n"
     ]
    },
    {
     "name": "stdout",
     "output_type": "stream",
     "text": [
      "Iteration No: 18 ended. Search finished for the next optimal point.\n",
      "Time taken: 824.0556\n",
      "Function value obtained: 0.4893\n",
      "Current minimum: 0.4893\n",
      "Iteration No: 19 started. Searching for the next optimal point.\n",
      "Iteration No: 19 ended. Search finished for the next optimal point.\n",
      "Time taken: 19.7289\n",
      "Function value obtained: 0.4950\n",
      "Current minimum: 0.4893\n",
      "Iteration No: 20 started. Searching for the next optimal point.\n"
     ]
    },
    {
     "name": "stderr",
     "output_type": "stream",
     "text": [
      "c:\\purnima\\myworkspace\\lib\\site-packages\\skopt\\optimizer\\optimizer.py:449: UserWarning: The objective has been evaluated at this point before.\n",
      "  warnings.warn(\"The objective has been evaluated \"\n"
     ]
    },
    {
     "name": "stdout",
     "output_type": "stream",
     "text": [
      "Iteration No: 20 ended. Search finished for the next optimal point.\n",
      "Time taken: 902.2402\n",
      "Function value obtained: 0.4893\n",
      "Current minimum: 0.4893\n"
     ]
    }
   ],
   "source": [
    "#Optimizing all things together\n",
    "gp = gp_minimize(objective,space,n_calls=20,random_state=1, verbose=True)"
   ]
  },
  {
   "cell_type": "code",
   "execution_count": 13,
   "metadata": {},
   "outputs": [
    {
     "name": "stdout",
     "output_type": "stream",
     "text": [
      "l1-ratio:  0.0  alpha:  0.001\n"
     ]
    }
   ],
   "source": [
    "print('l1-ratio: ',gp.x[0],' alpha: ',gp.x[1])"
   ]
  },
  {
   "cell_type": "code",
   "execution_count": 12,
   "metadata": {},
   "outputs": [
    {
     "data": {
      "text/plain": [
       "0.48925315375186235"
      ]
     },
     "execution_count": 12,
     "metadata": {},
     "output_type": "execute_result"
    }
   ],
   "source": [
    "gp.fun"
   ]
  },
  {
   "cell_type": "code",
   "execution_count": 9,
   "metadata": {},
   "outputs": [
    {
     "name": "stderr",
     "output_type": "stream",
     "text": [
      "c:\\purnima\\myworkspace\\lib\\site-packages\\sklearn\\linear_model\\_coordinate_descent.py:512: ConvergenceWarning: Objective did not converge. You might want to increase the number of iterations. Duality gap: 37282.294654865116, tolerance: 12.412534702397357\n",
      "  model = cd_fast.sparse_enet_coordinate_descent(\n"
     ]
    }
   ],
   "source": [
    "#Retraining on best hyperparameter:\n",
    "model = ElasticNet(l1_ratio=0, alpha= 0.001, max_iter=1500)\n",
    "model.fit(scaled_train,y)\n",
    "pred = np.exp(model.predict(scaled_test))"
   ]
  },
  {
   "cell_type": "code",
   "execution_count": 10,
   "metadata": {},
   "outputs": [
    {
     "data": {
      "text/html": [
       "<div>\n",
       "<style scoped>\n",
       "    .dataframe tbody tr th:only-of-type {\n",
       "        vertical-align: middle;\n",
       "    }\n",
       "\n",
       "    .dataframe tbody tr th {\n",
       "        vertical-align: top;\n",
       "    }\n",
       "\n",
       "    .dataframe thead th {\n",
       "        text-align: right;\n",
       "    }\n",
       "</style>\n",
       "<table border=\"1\" class=\"dataframe\">\n",
       "  <thead>\n",
       "    <tr style=\"text-align: right;\">\n",
       "      <th></th>\n",
       "      <th>id</th>\n",
       "      <th>loss</th>\n",
       "    </tr>\n",
       "  </thead>\n",
       "  <tbody>\n",
       "    <tr>\n",
       "      <th>0</th>\n",
       "      <td>4</td>\n",
       "      <td>1367.902116</td>\n",
       "    </tr>\n",
       "    <tr>\n",
       "      <th>1</th>\n",
       "      <td>6</td>\n",
       "      <td>2323.294573</td>\n",
       "    </tr>\n",
       "    <tr>\n",
       "      <th>2</th>\n",
       "      <td>9</td>\n",
       "      <td>9119.187553</td>\n",
       "    </tr>\n",
       "    <tr>\n",
       "      <th>3</th>\n",
       "      <td>12</td>\n",
       "      <td>4992.271568</td>\n",
       "    </tr>\n",
       "    <tr>\n",
       "      <th>4</th>\n",
       "      <td>15</td>\n",
       "      <td>778.191137</td>\n",
       "    </tr>\n",
       "  </tbody>\n",
       "</table>\n",
       "</div>"
      ],
      "text/plain": [
       "   id         loss\n",
       "0   4  1367.902116\n",
       "1   6  2323.294573\n",
       "2   9  9119.187553\n",
       "3  12  4992.271568\n",
       "4  15   778.191137"
      ]
     },
     "execution_count": 10,
     "metadata": {},
     "output_type": "execute_result"
    }
   ],
   "source": [
    "submission['loss'] = pred\n",
    "submission.to_csv('Elasticnet_bigram.csv',index=False)\n",
    "submission.head()"
   ]
  },
  {
   "attachments": {
    "Elasticnet_bigram.png": {
     "image/png": "[encoded data removed]"
    }
   },
   "cell_type": "markdown",
   "metadata": {},
   "source": [
    "**Score obtained after submitting on kaggle:**\n",
    "![Elasticnet_bigram.png](attachment:Elasticnet_bigram.png)"
   ]
  },
  {
   "cell_type": "markdown",
   "metadata": {},
   "source": [
    "## 1.3 XgBoost"
   ]
  },
  {
   "cell_type": "code",
   "execution_count": 11,
   "metadata": {},
   "outputs": [],
   "source": [
    "dtrain = xgb.DMatrix(train_bigram, y)\n",
    "dtest = xgb.DMatrix(test_bigram)"
   ]
  },
  {
   "cell_type": "code",
   "execution_count": 23,
   "metadata": {},
   "outputs": [],
   "source": [
    "#Defining Search Space: \n",
    "space = [Integer(2,10,name='max_depth'),Real(0,1,name='eta'),\n",
    "        Real(0.5,1,name='subsample'),Real(0.5,1,name='colsample_bytree')]\n",
    "@use_named_args(space)\n",
    "def objective(**param):\n",
    "    print(param)\n",
    "    cv_result = xgb.cv(param, dtrain, seed=43, nfold=5, metrics='mae',num_boost_round=1000,early_stopping_rounds=10)\n",
    "    mean_mae = cv_result['test-mae-mean'].min()\n",
    "    return mean_mae"
   ]
  },
  {
   "cell_type": "code",
   "execution_count": 24,
   "metadata": {
    "scrolled": true
   },
   "outputs": [
    {
     "name": "stdout",
     "output_type": "stream",
     "text": [
      "Iteration No: 1 started. Evaluating function at random point.\n",
      "{'max_depth': 10, 'eta': 0.932557359338659, 'subsample': 0.5640622239646784, 'colsample_bytree': 0.9995202576620725}\n",
      "Iteration No: 1 ended. Evaluation done at random point.\n",
      "Time taken: 21.1102\n",
      "Function value obtained: 0.5043\n",
      "Current minimum: 0.5043\n",
      "Iteration No: 2 started. Evaluating function at random point.\n",
      "{'max_depth': 4, 'eta': 0.3965807272960262, 'subsample': 0.6939553705810038, 'colsample_bytree': 0.8348730184017401}\n",
      "Iteration No: 2 ended. Evaluation done at random point.\n",
      "Time taken: 148.0796\n",
      "Function value obtained: 0.4626\n",
      "Current minimum: 0.4626\n",
      "Iteration No: 3 started. Evaluating function at random point.\n",
      "{'max_depth': 9, 'eta': 0.8463109166860173, 'subsample': 0.6566367584661376, 'colsample_bytree': 0.7622740797864358}\n",
      "Iteration No: 3 ended. Evaluation done at random point.\n",
      "Time taken: 7.8381\n",
      "Function value obtained: 0.4933\n",
      "Current minimum: 0.4626\n",
      "Iteration No: 4 started. Evaluating function at random point.\n",
      "{'max_depth': 6, 'eta': 0.2295772137298256, 'subsample': 0.7672069544735085, 'colsample_bytree': 0.9569810122896165}\n",
      "Iteration No: 4 ended. Evaluation done at random point.\n",
      "Time taken: 203.2698\n",
      "Function value obtained: 0.4592\n",
      "Current minimum: 0.4592\n",
      "Iteration No: 5 started. Evaluating function at random point.\n",
      "{'max_depth': 6, 'eta': 0.43069856718470856, 'subsample': 0.969563894711813, 'colsample_bytree': 0.8891946181682668}\n",
      "Iteration No: 5 ended. Evaluation done at random point.\n",
      "Time taken: 121.1546\n",
      "Function value obtained: 0.4647\n",
      "Current minimum: 0.4592\n",
      "Iteration No: 6 started. Evaluating function at random point.\n",
      "{'max_depth': 8, 'eta': 0.8027575039373651, 'subsample': 0.546400404320369, 'colsample_bytree': 0.7590762744709445}\n",
      "Iteration No: 6 ended. Evaluation done at random point.\n",
      "Time taken: 17.9643\n",
      "Function value obtained: 0.4913\n",
      "Current minimum: 0.4592\n",
      "Iteration No: 7 started. Evaluating function at random point.\n",
      "{'max_depth': 9, 'eta': 0.8291469073671418, 'subsample': 0.9148016796970919, 'colsample_bytree': 0.6365249871083737}\n",
      "Iteration No: 7 ended. Evaluation done at random point.\n",
      "Time taken: 6.9803\n",
      "Function value obtained: 0.4884\n",
      "Current minimum: 0.4592\n",
      "Iteration No: 8 started. Evaluating function at random point.\n",
      "{'max_depth': 2, 'eta': 0.6705280400689456, 'subsample': 0.7965327591490285, 'colsample_bytree': 0.8358270487110673}\n",
      "Iteration No: 8 ended. Evaluation done at random point.\n",
      "Time taken: 164.5262\n",
      "Function value obtained: 0.4615\n",
      "Current minimum: 0.4592\n",
      "Iteration No: 9 started. Evaluating function at random point.\n",
      "{'max_depth': 5, 'eta': 0.19755089798478126, 'subsample': 0.6448148202729063, 'colsample_bytree': 0.5710600677374785}\n",
      "Iteration No: 9 ended. Evaluation done at random point.\n",
      "Time taken: 183.8822\n",
      "Function value obtained: 0.4586\n",
      "Current minimum: 0.4586\n",
      "Iteration No: 10 started. Evaluating function at random point.\n",
      "{'max_depth': 8, 'eta': 0.4125388415030262, 'subsample': 0.5170856555929195, 'colsample_bytree': 0.8120149932386767}\n",
      "Iteration No: 10 ended. Evaluation done at random point.\n",
      "Time taken: 44.6035\n",
      "Function value obtained: 0.4737\n",
      "Current minimum: 0.4586\n",
      "Iteration No: 11 started. Searching for the next optimal point.\n",
      "{'max_depth': 2, 'eta': 0.0, 'subsample': 1.0, 'colsample_bytree': 0.5}\n",
      "Iteration No: 11 ended. Search finished for the next optimal point.\n",
      "Time taken: 5.1487\n",
      "Function value obtained: 7.1853\n",
      "Current minimum: 0.4586\n",
      "Iteration No: 12 started. Searching for the next optimal point.\n",
      "{'max_depth': 4, 'eta': 1.0, 'subsample': 0.5, 'colsample_bytree': 0.5}\n",
      "Iteration No: 12 ended. Search finished for the next optimal point.\n",
      "Time taken: 28.7041\n",
      "Function value obtained: 0.4844\n",
      "Current minimum: 0.4586\n",
      "Iteration No: 13 started. Searching for the next optimal point.\n",
      "{'max_depth': 10, 'eta': 0.0, 'subsample': 0.5, 'colsample_bytree': 0.5}\n",
      "Iteration No: 13 ended. Search finished for the next optimal point.\n",
      "Time taken: 11.1401\n",
      "Function value obtained: 7.1853\n",
      "Current minimum: 0.4586\n",
      "Iteration No: 14 started. Searching for the next optimal point.\n",
      "{'max_depth': 5, 'eta': 0.20996784354003065, 'subsample': 0.7011466306685964, 'colsample_bytree': 0.6725937575098012}\n",
      "Iteration No: 14 ended. Search finished for the next optimal point.\n",
      "Time taken: 255.6001\n",
      "Function value obtained: 0.4578\n",
      "Current minimum: 0.4578\n",
      "Iteration No: 15 started. Searching for the next optimal point.\n",
      "{'max_depth': 2, 'eta': 0.3582213414395007, 'subsample': 1.0, 'colsample_bytree': 1.0}\n",
      "Iteration No: 15 ended. Search finished for the next optimal point.\n",
      "Time taken: 216.3967\n",
      "Function value obtained: 0.4587\n",
      "Current minimum: 0.4578\n",
      "Iteration No: 16 started. Searching for the next optimal point.\n",
      "{'max_depth': 2, 'eta': 0.5631766975464244, 'subsample': 1.0, 'colsample_bytree': 1.0}\n",
      "Iteration No: 16 ended. Search finished for the next optimal point.\n",
      "Time taken: 141.1963\n",
      "Function value obtained: 0.4594\n",
      "Current minimum: 0.4578\n",
      "Iteration No: 17 started. Searching for the next optimal point.\n",
      "{'max_depth': 2, 'eta': 0.6220304896621833, 'subsample': 1.0, 'colsample_bytree': 1.0}\n",
      "Iteration No: 17 ended. Search finished for the next optimal point.\n",
      "Time taken: 190.3911\n",
      "Function value obtained: 0.4598\n",
      "Current minimum: 0.4578\n",
      "Iteration No: 18 started. Searching for the next optimal point.\n",
      "{'max_depth': 2, 'eta': 0.2120904008416457, 'subsample': 0.5, 'colsample_bytree': 0.5}\n",
      "Iteration No: 18 ended. Search finished for the next optimal point.\n",
      "Time taken: 234.7734\n",
      "Function value obtained: 0.4626\n",
      "Current minimum: 0.4578\n",
      "Iteration No: 19 started. Searching for the next optimal point.\n",
      "{'max_depth': 10, 'eta': 0.2071564448086413, 'subsample': 1.0, 'colsample_bytree': 1.0}\n",
      "Iteration No: 19 ended. Search finished for the next optimal point.\n",
      "Time taken: 167.0333\n",
      "Function value obtained: 0.4621\n",
      "Current minimum: 0.4578\n",
      "Iteration No: 20 started. Searching for the next optimal point.\n",
      "{'max_depth': 2, 'eta': 0.277721533193398, 'subsample': 1.0, 'colsample_bytree': 1.0}\n",
      "Iteration No: 20 ended. Search finished for the next optimal point.\n",
      "Time taken: 263.9494\n",
      "Function value obtained: 0.4599\n",
      "Current minimum: 0.4578\n",
      "Iteration No: 21 started. Searching for the next optimal point.\n",
      "{'max_depth': 2, 'eta': 0.502839432121457, 'subsample': 1.0, 'colsample_bytree': 1.0}\n",
      "Iteration No: 21 ended. Search finished for the next optimal point.\n",
      "Time taken: 183.9249\n",
      "Function value obtained: 0.4591\n",
      "Current minimum: 0.4578\n",
      "Iteration No: 22 started. Searching for the next optimal point.\n",
      "{'max_depth': 2, 'eta': 0.7142457813760835, 'subsample': 1.0, 'colsample_bytree': 1.0}\n",
      "Iteration No: 22 ended. Search finished for the next optimal point.\n",
      "Time taken: 141.8169\n",
      "Function value obtained: 0.4607\n",
      "Current minimum: 0.4578\n",
      "Iteration No: 23 started. Searching for the next optimal point.\n",
      "{'max_depth': 10, 'eta': 0.693919764396928, 'subsample': 1.0, 'colsample_bytree': 0.5}\n",
      "Iteration No: 23 ended. Search finished for the next optimal point.\n",
      "Time taken: 23.4083\n",
      "Function value obtained: 0.4853\n",
      "Current minimum: 0.4578\n",
      "Iteration No: 24 started. Searching for the next optimal point.\n",
      "{'max_depth': 2, 'eta': 0.20532916824139866, 'subsample': 0.5, 'colsample_bytree': 1.0}\n",
      "Iteration No: 24 ended. Search finished for the next optimal point.\n",
      "Time taken: 337.1595\n",
      "Function value obtained: 0.4612\n",
      "Current minimum: 0.4578\n",
      "Iteration No: 25 started. Searching for the next optimal point.\n",
      "{'max_depth': 2, 'eta': 0.4669126996048308, 'subsample': 1.0, 'colsample_bytree': 1.0}\n",
      "Iteration No: 25 ended. Search finished for the next optimal point.\n",
      "Time taken: 266.3371\n",
      "Function value obtained: 0.4583\n",
      "Current minimum: 0.4578\n",
      "Iteration No: 26 started. Searching for the next optimal point.\n",
      "{'max_depth': 10, 'eta': 0.3095298777655929, 'subsample': 1.0, 'colsample_bytree': 1.0}\n",
      "Iteration No: 26 ended. Search finished for the next optimal point.\n",
      "Time taken: 96.3411\n",
      "Function value obtained: 0.4671\n",
      "Current minimum: 0.4578\n",
      "Iteration No: 27 started. Searching for the next optimal point.\n",
      "{'max_depth': 2, 'eta': 0.7522482563376686, 'subsample': 1.0, 'colsample_bytree': 0.5}\n",
      "Iteration No: 27 ended. Search finished for the next optimal point.\n",
      "Time taken: 155.7947\n",
      "Function value obtained: 0.4616\n",
      "Current minimum: 0.4578\n",
      "Iteration No: 28 started. Searching for the next optimal point.\n",
      "{'max_depth': 2, 'eta': 0.3834956960824073, 'subsample': 1.0, 'colsample_bytree': 0.5}\n"
     ]
    },
    {
     "name": "stdout",
     "output_type": "stream",
     "text": [
      "Iteration No: 28 ended. Search finished for the next optimal point.\n",
      "Time taken: 205.4565\n",
      "Function value obtained: 0.4593\n",
      "Current minimum: 0.4578\n",
      "Iteration No: 29 started. Searching for the next optimal point.\n",
      "{'max_depth': 2, 'eta': 0.7586755305143621, 'subsample': 1.0, 'colsample_bytree': 1.0}\n",
      "Iteration No: 29 ended. Search finished for the next optimal point.\n",
      "Time taken: 127.2671\n",
      "Function value obtained: 0.4611\n",
      "Current minimum: 0.4578\n",
      "Iteration No: 30 started. Searching for the next optimal point.\n",
      "{'max_depth': 10, 'eta': 0.25980984181858985, 'subsample': 0.5, 'colsample_bytree': 1.0}\n",
      "Iteration No: 30 ended. Search finished for the next optimal point.\n",
      "Time taken: 47.8429\n",
      "Function value obtained: 0.4704\n",
      "Current minimum: 0.4578\n"
     ]
    }
   ],
   "source": [
    "gp = gp_minimize(objective,space,n_calls=30,random_state=1, verbose=True)"
   ]
  },
  {
   "cell_type": "code",
   "execution_count": 25,
   "metadata": {},
   "outputs": [
    {
     "name": "stdout",
     "output_type": "stream",
     "text": [
      "Max-depth:  5  eta:  0.20996784354003065  Subsample:  0.7011466306685964 colsample_bytree:  0.6725937575098012\n"
     ]
    }
   ],
   "source": [
    "print('Max-depth: ', gp.x[0],' eta: ',gp.x[1],' Subsample: ',gp.x[2],'colsample_bytree: ', gp.x[3])"
   ]
  },
  {
   "cell_type": "code",
   "execution_count": 26,
   "metadata": {},
   "outputs": [
    {
     "data": {
      "text/plain": [
       "0.45780899999999997"
      ]
     },
     "execution_count": 26,
     "metadata": {},
     "output_type": "execute_result"
    }
   ],
   "source": [
    "gp.fun"
   ]
  },
  {
   "cell_type": "code",
   "execution_count": 27,
   "metadata": {},
   "outputs": [],
   "source": [
    "# Retraining on best Hyperparam:\n",
    "params = {'max_depth': gp.x[0], \n",
    "        'eta': gp.x[1],\n",
    "        'subsample':gp.x[2],\n",
    "        'colsample_bytree':gp.x[3]}\n",
    "model = xgb.train(params, dtrain, num_boost_round=1000)"
   ]
  },
  {
   "cell_type": "code",
   "execution_count": 28,
   "metadata": {},
   "outputs": [
    {
     "data": {
      "text/html": [
       "<div>\n",
       "<style scoped>\n",
       "    .dataframe tbody tr th:only-of-type {\n",
       "        vertical-align: middle;\n",
       "    }\n",
       "\n",
       "    .dataframe tbody tr th {\n",
       "        vertical-align: top;\n",
       "    }\n",
       "\n",
       "    .dataframe thead th {\n",
       "        text-align: right;\n",
       "    }\n",
       "</style>\n",
       "<table border=\"1\" class=\"dataframe\">\n",
       "  <thead>\n",
       "    <tr style=\"text-align: right;\">\n",
       "      <th></th>\n",
       "      <th>id</th>\n",
       "      <th>loss</th>\n",
       "    </tr>\n",
       "  </thead>\n",
       "  <tbody>\n",
       "    <tr>\n",
       "      <th>0</th>\n",
       "      <td>4</td>\n",
       "      <td>1114.924438</td>\n",
       "    </tr>\n",
       "    <tr>\n",
       "      <th>1</th>\n",
       "      <td>6</td>\n",
       "      <td>2862.748535</td>\n",
       "    </tr>\n",
       "    <tr>\n",
       "      <th>2</th>\n",
       "      <td>9</td>\n",
       "      <td>9040.867188</td>\n",
       "    </tr>\n",
       "    <tr>\n",
       "      <th>3</th>\n",
       "      <td>12</td>\n",
       "      <td>6663.038086</td>\n",
       "    </tr>\n",
       "    <tr>\n",
       "      <th>4</th>\n",
       "      <td>15</td>\n",
       "      <td>783.109375</td>\n",
       "    </tr>\n",
       "  </tbody>\n",
       "</table>\n",
       "</div>"
      ],
      "text/plain": [
       "   id         loss\n",
       "0   4  1114.924438\n",
       "1   6  2862.748535\n",
       "2   9  9040.867188\n",
       "3  12  6663.038086\n",
       "4  15   783.109375"
      ]
     },
     "execution_count": 28,
     "metadata": {},
     "output_type": "execute_result"
    }
   ],
   "source": [
    "pred = np.exp(model.predict(dtest))\n",
    "submission['loss'] = pred\n",
    "submission.to_csv('xgboost_bigram.csv',index=False)\n",
    "submission.head()"
   ]
  },
  {
   "attachments": {
    "xgboost_bigram.png": {
     "image/png": "[encoded data removed]"
    }
   },
   "cell_type": "markdown",
   "metadata": {},
   "source": [
    "**Score obtained after submitting on kaggle:**![xgboost_bigram.png](attachment:xgboost_bigram.png)"
   ]
  },
  {
   "cell_type": "markdown",
   "metadata": {},
   "source": [
    "## 2. Trigram Feature(1000 features)\n",
    "## 2.2 ElasticNet"
   ]
  },
  {
   "cell_type": "code",
   "execution_count": 7,
   "metadata": {},
   "outputs": [
    {
     "name": "stdout",
     "output_type": "stream",
     "text": [
      "Shape of train data: (188318, 1000)\n",
      "Shape of test data: (125546, 1000)\n"
     ]
    }
   ],
   "source": [
    "skb = SelectKBest(k=1000, score_func=f_regression)\n",
    "train_trigram = skb.fit_transform(train_trigram,y)\n",
    "test_trigram = skb.transform(test_trigram)\n",
    "\n",
    "print('Shape of train data:',train_trigram.shape)\n",
    "print('Shape of test data:',test_trigram.shape)"
   ]
  },
  {
   "cell_type": "code",
   "execution_count": 8,
   "metadata": {},
   "outputs": [
    {
     "name": "stdout",
     "output_type": "stream",
     "text": [
      "Shape of train data: (188318, 1000)\n",
      "Shape of test data: (125546, 1000)\n"
     ]
    }
   ],
   "source": [
    "scaler = MaxAbsScaler()\n",
    "scaled_train = scaler.fit_transform(train_trigram)\n",
    "scaled_test = scaler.transform(test_trigram)\n",
    "print('Shape of train data:',scaled_train.shape)\n",
    "print('Shape of test data:',scaled_test.shape)"
   ]
  },
  {
   "cell_type": "code",
   "execution_count": 11,
   "metadata": {
    "scrolled": true
   },
   "outputs": [
    {
     "name": "stdout",
     "output_type": "stream",
     "text": [
      "Iteration No: 1 started. Evaluating function at random point.\n",
      "Iteration No: 1 ended. Evaluation done at random point.\n",
      "Time taken: 2.6326\n",
      "Function value obtained: 0.6600\n",
      "Current minimum: 0.6600\n",
      "Iteration No: 2 started. Evaluating function at random point.\n",
      "Iteration No: 2 ended. Evaluation done at random point.\n",
      "Time taken: 3.4566\n",
      "Function value obtained: 0.6600\n",
      "Current minimum: 0.6600\n",
      "Iteration No: 3 started. Evaluating function at random point.\n",
      "Iteration No: 3 ended. Evaluation done at random point.\n",
      "Time taken: 4.0587\n",
      "Function value obtained: 0.6461\n",
      "Current minimum: 0.6461\n",
      "Iteration No: 4 started. Evaluating function at random point.\n",
      "Iteration No: 4 ended. Evaluation done at random point.\n",
      "Time taken: 6.9683\n",
      "Function value obtained: 0.6600\n",
      "Current minimum: 0.6461\n",
      "Iteration No: 5 started. Evaluating function at random point.\n",
      "Iteration No: 5 ended. Evaluation done at random point.\n",
      "Time taken: 1.6360\n",
      "Function value obtained: 0.6600\n",
      "Current minimum: 0.6461\n",
      "Iteration No: 6 started. Evaluating function at random point.\n",
      "Iteration No: 6 ended. Evaluation done at random point.\n",
      "Time taken: 1.4701\n",
      "Function value obtained: 0.6600\n",
      "Current minimum: 0.6461\n",
      "Iteration No: 7 started. Evaluating function at random point.\n",
      "Iteration No: 7 ended. Evaluation done at random point.\n",
      "Time taken: 3.4528\n",
      "Function value obtained: 0.5562\n",
      "Current minimum: 0.5562\n",
      "Iteration No: 8 started. Evaluating function at random point.\n",
      "Iteration No: 8 ended. Evaluation done at random point.\n",
      "Time taken: 1.8773\n",
      "Function value obtained: 0.6600\n",
      "Current minimum: 0.5562\n",
      "Iteration No: 9 started. Evaluating function at random point.\n",
      "Iteration No: 9 ended. Evaluation done at random point.\n",
      "Time taken: 1.5028\n",
      "Function value obtained: 0.6600\n",
      "Current minimum: 0.5562\n",
      "Iteration No: 10 started. Evaluating function at random point.\n",
      "Iteration No: 10 ended. Evaluation done at random point.\n",
      "Time taken: 2.5686\n",
      "Function value obtained: 0.6600\n",
      "Current minimum: 0.5562\n",
      "Iteration No: 11 started. Searching for the next optimal point.\n",
      "Iteration No: 11 ended. Search finished for the next optimal point.\n",
      "Time taken: 18.8577\n",
      "Function value obtained: 0.4749\n",
      "Current minimum: 0.4749\n",
      "Iteration No: 12 started. Searching for the next optimal point.\n",
      "Iteration No: 12 ended. Search finished for the next optimal point.\n",
      "Time taken: 18.1246\n",
      "Function value obtained: 0.4784\n",
      "Current minimum: 0.4749\n",
      "Iteration No: 13 started. Searching for the next optimal point.\n",
      "Iteration No: 13 ended. Search finished for the next optimal point.\n",
      "Time taken: 454.2392\n",
      "Function value obtained: 0.4685\n",
      "Current minimum: 0.4685\n",
      "Iteration No: 14 started. Searching for the next optimal point.\n",
      "Iteration No: 14 ended. Search finished for the next optimal point.\n",
      "Time taken: 405.5597\n",
      "Function value obtained: 0.4704\n",
      "Current minimum: 0.4685\n",
      "Iteration No: 15 started. Searching for the next optimal point.\n",
      "Iteration No: 15 ended. Search finished for the next optimal point.\n",
      "Time taken: 8.8364\n",
      "Function value obtained: 0.4896\n",
      "Current minimum: 0.4685\n",
      "Iteration No: 16 started. Searching for the next optimal point.\n"
     ]
    },
    {
     "name": "stderr",
     "output_type": "stream",
     "text": [
      "c:\\purnima\\myworkspace\\lib\\site-packages\\skopt\\optimizer\\optimizer.py:449: UserWarning: The objective has been evaluated at this point before.\n",
      "  warnings.warn(\"The objective has been evaluated \"\n"
     ]
    },
    {
     "name": "stdout",
     "output_type": "stream",
     "text": [
      "Iteration No: 16 ended. Search finished for the next optimal point.\n",
      "Time taken: 443.1024\n",
      "Function value obtained: 0.4685\n",
      "Current minimum: 0.4685\n",
      "Iteration No: 17 started. Searching for the next optimal point.\n",
      "Iteration No: 17 ended. Search finished for the next optimal point.\n",
      "Time taken: 16.5158\n",
      "Function value obtained: 0.4747\n",
      "Current minimum: 0.4685\n",
      "Iteration No: 18 started. Searching for the next optimal point.\n"
     ]
    },
    {
     "name": "stderr",
     "output_type": "stream",
     "text": [
      "c:\\purnima\\myworkspace\\lib\\site-packages\\skopt\\optimizer\\optimizer.py:449: UserWarning: The objective has been evaluated at this point before.\n",
      "  warnings.warn(\"The objective has been evaluated \"\n"
     ]
    },
    {
     "name": "stdout",
     "output_type": "stream",
     "text": [
      "Iteration No: 18 ended. Search finished for the next optimal point.\n",
      "Time taken: 463.0829\n",
      "Function value obtained: 0.4685\n",
      "Current minimum: 0.4685\n",
      "Iteration No: 19 started. Searching for the next optimal point.\n",
      "Iteration No: 19 ended. Search finished for the next optimal point.\n",
      "Time taken: 18.3925\n",
      "Function value obtained: 0.4834\n",
      "Current minimum: 0.4685\n",
      "Iteration No: 20 started. Searching for the next optimal point.\n",
      "Iteration No: 20 ended. Search finished for the next optimal point.\n",
      "Time taken: 445.4426\n",
      "Function value obtained: 0.4689\n",
      "Current minimum: 0.4685\n"
     ]
    }
   ],
   "source": [
    "space = [Real(0,1,name='l1_ratio'), Real(0.001,1000,prior='log-uniform', name='alpha')]\n",
    "# Defining model\n",
    "model = ElasticNet()\n",
    "#https://scikit-optimize.github.io/stable/auto_examples/hyperparameter-optimization.html\n",
    "@use_named_args(space)\n",
    "def objective(**params):\n",
    "    \n",
    "    model.set_params(**params)\n",
    "    score = cross_val_score(model,scaled_train, y, cv=5,n_jobs=-1,\n",
    "                            scoring='neg_mean_absolute_error')\n",
    "    return -np.mean(score)\n",
    "\n",
    "#Optimizing all things together\n",
    "gp = gp_minimize(objective,space,n_calls=20,random_state=1, verbose=True)"
   ]
  },
  {
   "cell_type": "code",
   "execution_count": 12,
   "metadata": {},
   "outputs": [
    {
     "name": "stdout",
     "output_type": "stream",
     "text": [
      "l1-ratio:  0.0  alpha:  0.001\n"
     ]
    }
   ],
   "source": [
    "print('l1-ratio: ',gp.x[0],' alpha: ',gp.x[1])"
   ]
  },
  {
   "cell_type": "code",
   "execution_count": 13,
   "metadata": {},
   "outputs": [
    {
     "data": {
      "text/plain": [
       "0.46848949545336077"
      ]
     },
     "execution_count": 13,
     "metadata": {},
     "output_type": "execute_result"
    }
   ],
   "source": [
    "gp.fun"
   ]
  },
  {
   "cell_type": "code",
   "execution_count": 14,
   "metadata": {},
   "outputs": [
    {
     "name": "stderr",
     "output_type": "stream",
     "text": [
      "c:\\purnima\\myworkspace\\lib\\site-packages\\sklearn\\linear_model\\_coordinate_descent.py:512: ConvergenceWarning: Objective did not converge. You might want to increase the number of iterations. Duality gap: 34082.56869489034, tolerance: 12.412534702397357\n",
      "  model = cd_fast.sparse_enet_coordinate_descent(\n"
     ]
    }
   ],
   "source": [
    "#Retraining on best hyperparameter:\n",
    "model = ElasticNet(l1_ratio=0, alpha= 0.001, max_iter=1500)\n",
    "model.fit(scaled_train,y)\n",
    "pred = np.exp(model.predict(scaled_test))"
   ]
  },
  {
   "cell_type": "code",
   "execution_count": 15,
   "metadata": {},
   "outputs": [
    {
     "data": {
      "text/html": [
       "<div>\n",
       "<style scoped>\n",
       "    .dataframe tbody tr th:only-of-type {\n",
       "        vertical-align: middle;\n",
       "    }\n",
       "\n",
       "    .dataframe tbody tr th {\n",
       "        vertical-align: top;\n",
       "    }\n",
       "\n",
       "    .dataframe thead th {\n",
       "        text-align: right;\n",
       "    }\n",
       "</style>\n",
       "<table border=\"1\" class=\"dataframe\">\n",
       "  <thead>\n",
       "    <tr style=\"text-align: right;\">\n",
       "      <th></th>\n",
       "      <th>id</th>\n",
       "      <th>loss</th>\n",
       "    </tr>\n",
       "  </thead>\n",
       "  <tbody>\n",
       "    <tr>\n",
       "      <th>0</th>\n",
       "      <td>4</td>\n",
       "      <td>1483.584604</td>\n",
       "    </tr>\n",
       "    <tr>\n",
       "      <th>1</th>\n",
       "      <td>6</td>\n",
       "      <td>1833.916301</td>\n",
       "    </tr>\n",
       "    <tr>\n",
       "      <th>2</th>\n",
       "      <td>9</td>\n",
       "      <td>6621.892966</td>\n",
       "    </tr>\n",
       "    <tr>\n",
       "      <th>3</th>\n",
       "      <td>12</td>\n",
       "      <td>5897.530385</td>\n",
       "    </tr>\n",
       "    <tr>\n",
       "      <th>4</th>\n",
       "      <td>15</td>\n",
       "      <td>837.411425</td>\n",
       "    </tr>\n",
       "  </tbody>\n",
       "</table>\n",
       "</div>"
      ],
      "text/plain": [
       "   id         loss\n",
       "0   4  1483.584604\n",
       "1   6  1833.916301\n",
       "2   9  6621.892966\n",
       "3  12  5897.530385\n",
       "4  15   837.411425"
      ]
     },
     "execution_count": 15,
     "metadata": {},
     "output_type": "execute_result"
    }
   ],
   "source": [
    "submission['loss'] = pred\n",
    "submission.to_csv('Elasticnet_trigram.csv',index=False)\n",
    "submission.head()"
   ]
  },
  {
   "attachments": {
    "Elasticnet_trigram.png": {
     "image/png": "[encoded data removed]"
    }
   },
   "cell_type": "markdown",
   "metadata": {},
   "source": [
    "**Score obtained after submitting on kaggle:**\n",
    "![Elasticnet_trigram.png](attachment:Elasticnet_trigram.png)"
   ]
  },
  {
   "cell_type": "markdown",
   "metadata": {},
   "source": [
    "## 2.3 XgBoost"
   ]
  },
  {
   "cell_type": "code",
   "execution_count": 17,
   "metadata": {},
   "outputs": [],
   "source": [
    "dtrain = xgb.DMatrix(train_trigram, y)\n",
    "dtest = xgb.DMatrix(test_trigram)"
   ]
  },
  {
   "cell_type": "code",
   "execution_count": 18,
   "metadata": {},
   "outputs": [],
   "source": [
    "#Defining Search Space: \n",
    "space = [Integer(2,10,name='max_depth'),Real(0,1,name='eta'),\n",
    "        Real(0.5,1,name='subsample'),Real(0.5,1,name='colsample_bytree')]\n",
    "@use_named_args(space)\n",
    "def objective(**param):\n",
    "    print(param)\n",
    "    cv_result = xgb.cv(param, dtrain, seed=43, nfold=5, metrics='mae',num_boost_round=1000,early_stopping_rounds=10)\n",
    "    mean_mae = cv_result['test-mae-mean'].min()\n",
    "    return mean_mae"
   ]
  },
  {
   "cell_type": "code",
   "execution_count": 19,
   "metadata": {
    "scrolled": true
   },
   "outputs": [
    {
     "name": "stdout",
     "output_type": "stream",
     "text": [
      "Iteration No: 1 started. Evaluating function at random point.\n",
      "{'max_depth': 10, 'eta': 0.932557359338659, 'subsample': 0.5640622239646784, 'colsample_bytree': 0.9995202576620725}\n",
      "Iteration No: 1 ended. Evaluation done at random point.\n",
      "Time taken: 23.3262\n",
      "Function value obtained: 0.4843\n",
      "Current minimum: 0.4843\n",
      "Iteration No: 2 started. Evaluating function at random point.\n",
      "{'max_depth': 4, 'eta': 0.3965807272960262, 'subsample': 0.6939553705810038, 'colsample_bytree': 0.8348730184017401}\n",
      "Iteration No: 2 ended. Evaluation done at random point.\n",
      "Time taken: 127.0908\n",
      "Function value obtained: 0.4467\n",
      "Current minimum: 0.4467\n",
      "Iteration No: 3 started. Evaluating function at random point.\n",
      "{'max_depth': 9, 'eta': 0.8463109166860173, 'subsample': 0.6566367584661376, 'colsample_bytree': 0.7622740797864358}\n",
      "Iteration No: 3 ended. Evaluation done at random point.\n",
      "Time taken: 15.9921\n",
      "Function value obtained: 0.4740\n",
      "Current minimum: 0.4467\n",
      "Iteration No: 4 started. Evaluating function at random point.\n",
      "{'max_depth': 6, 'eta': 0.2295772137298256, 'subsample': 0.7672069544735085, 'colsample_bytree': 0.9569810122896165}\n",
      "Iteration No: 4 ended. Evaluation done at random point.\n",
      "Time taken: 118.8083\n",
      "Function value obtained: 0.4437\n",
      "Current minimum: 0.4437\n",
      "Iteration No: 5 started. Evaluating function at random point.\n",
      "{'max_depth': 6, 'eta': 0.43069856718470856, 'subsample': 0.969563894711813, 'colsample_bytree': 0.8891946181682668}\n",
      "Iteration No: 5 ended. Evaluation done at random point.\n",
      "Time taken: 59.0820\n",
      "Function value obtained: 0.4486\n",
      "Current minimum: 0.4437\n",
      "Iteration No: 6 started. Evaluating function at random point.\n",
      "{'max_depth': 8, 'eta': 0.8027575039373651, 'subsample': 0.546400404320369, 'colsample_bytree': 0.7590762744709445}\n",
      "Iteration No: 6 ended. Evaluation done at random point.\n",
      "Time taken: 8.3251\n",
      "Function value obtained: 0.4717\n",
      "Current minimum: 0.4437\n",
      "Iteration No: 7 started. Evaluating function at random point.\n",
      "{'max_depth': 9, 'eta': 0.8291469073671418, 'subsample': 0.9148016796970919, 'colsample_bytree': 0.6365249871083737}\n",
      "Iteration No: 7 ended. Evaluation done at random point.\n",
      "Time taken: 17.7552\n",
      "Function value obtained: 0.4693\n",
      "Current minimum: 0.4437\n",
      "Iteration No: 8 started. Evaluating function at random point.\n",
      "{'max_depth': 2, 'eta': 0.6705280400689456, 'subsample': 0.7965327591490285, 'colsample_bytree': 0.8358270487110673}\n",
      "Iteration No: 8 ended. Evaluation done at random point.\n",
      "Time taken: 97.0244\n",
      "Function value obtained: 0.4483\n",
      "Current minimum: 0.4437\n",
      "Iteration No: 9 started. Evaluating function at random point.\n",
      "{'max_depth': 5, 'eta': 0.19755089798478126, 'subsample': 0.6448148202729063, 'colsample_bytree': 0.5710600677374785}\n",
      "Iteration No: 9 ended. Evaluation done at random point.\n",
      "Time taken: 195.1622\n",
      "Function value obtained: 0.4435\n",
      "Current minimum: 0.4435\n",
      "Iteration No: 10 started. Evaluating function at random point.\n",
      "{'max_depth': 8, 'eta': 0.4125388415030262, 'subsample': 0.5170856555929195, 'colsample_bytree': 0.8120149932386767}\n",
      "Iteration No: 10 ended. Evaluation done at random point.\n",
      "Time taken: 54.1999\n",
      "Function value obtained: 0.4561\n",
      "Current minimum: 0.4435\n",
      "Iteration No: 11 started. Searching for the next optimal point.\n",
      "{'max_depth': 2, 'eta': 0.0, 'subsample': 1.0, 'colsample_bytree': 0.5}\n",
      "Iteration No: 11 ended. Search finished for the next optimal point.\n",
      "Time taken: 4.7393\n",
      "Function value obtained: 7.1853\n",
      "Current minimum: 0.4435\n",
      "Iteration No: 12 started. Searching for the next optimal point.\n",
      "{'max_depth': 4, 'eta': 1.0, 'subsample': 0.5, 'colsample_bytree': 0.5}\n",
      "Iteration No: 12 ended. Search finished for the next optimal point.\n",
      "Time taken: 28.1026\n",
      "Function value obtained: 0.4712\n",
      "Current minimum: 0.4435\n",
      "Iteration No: 13 started. Searching for the next optimal point.\n",
      "{'max_depth': 10, 'eta': 0.0, 'subsample': 0.5, 'colsample_bytree': 0.5}\n",
      "Iteration No: 13 ended. Search finished for the next optimal point.\n",
      "Time taken: 11.5180\n",
      "Function value obtained: 7.1853\n",
      "Current minimum: 0.4435\n",
      "Iteration No: 14 started. Searching for the next optimal point.\n",
      "{'max_depth': 5, 'eta': 0.21004770964228045, 'subsample': 0.6975693757678644, 'colsample_bytree': 0.6742305859205884}\n",
      "Iteration No: 14 ended. Search finished for the next optimal point.\n",
      "Time taken: 157.5815\n",
      "Function value obtained: 0.4433\n",
      "Current minimum: 0.4433\n",
      "Iteration No: 15 started. Searching for the next optimal point.\n",
      "{'max_depth': 2, 'eta': 0.35543195369844455, 'subsample': 1.0, 'colsample_bytree': 1.0}\n",
      "Iteration No: 15 ended. Search finished for the next optimal point.\n",
      "Time taken: 200.1163\n",
      "Function value obtained: 0.4444\n",
      "Current minimum: 0.4433\n",
      "Iteration No: 16 started. Searching for the next optimal point.\n",
      "{'max_depth': 2, 'eta': 0.5583051116584604, 'subsample': 1.0, 'colsample_bytree': 1.0}\n",
      "Iteration No: 16 ended. Search finished for the next optimal point.\n",
      "Time taken: 162.0375\n",
      "Function value obtained: 0.4439\n",
      "Current minimum: 0.4433\n",
      "Iteration No: 17 started. Searching for the next optimal point.\n",
      "{'max_depth': 2, 'eta': 0.6159816589645862, 'subsample': 1.0, 'colsample_bytree': 1.0}\n",
      "Iteration No: 17 ended. Search finished for the next optimal point.\n",
      "Time taken: 139.5242\n",
      "Function value obtained: 0.4452\n",
      "Current minimum: 0.4433\n",
      "Iteration No: 18 started. Searching for the next optimal point.\n",
      "{'max_depth': 2, 'eta': 0.21232488375907627, 'subsample': 0.5, 'colsample_bytree': 0.5}\n",
      "Iteration No: 18 ended. Search finished for the next optimal point.\n",
      "Time taken: 147.8599\n",
      "Function value obtained: 0.4466\n",
      "Current minimum: 0.4433\n",
      "Iteration No: 19 started. Searching for the next optimal point.\n",
      "{'max_depth': 10, 'eta': 0.20731399522880378, 'subsample': 1.0, 'colsample_bytree': 1.0}\n",
      "Iteration No: 19 ended. Search finished for the next optimal point.\n",
      "Time taken: 120.3632\n",
      "Function value obtained: 0.4470\n",
      "Current minimum: 0.4433\n",
      "Iteration No: 20 started. Searching for the next optimal point.\n",
      "{'max_depth': 2, 'eta': 0.27765908107370896, 'subsample': 1.0, 'colsample_bytree': 1.0}\n",
      "Iteration No: 20 ended. Search finished for the next optimal point.\n",
      "Time taken: 261.6418\n",
      "Function value obtained: 0.4437\n",
      "Current minimum: 0.4433\n",
      "Iteration No: 21 started. Searching for the next optimal point.\n",
      "{'max_depth': 2, 'eta': 0.5000424773016985, 'subsample': 1.0, 'colsample_bytree': 1.0}\n",
      "Iteration No: 21 ended. Search finished for the next optimal point.\n",
      "Time taken: 144.8350\n",
      "Function value obtained: 0.4450\n",
      "Current minimum: 0.4433\n",
      "Iteration No: 22 started. Searching for the next optimal point.\n",
      "{'max_depth': 2, 'eta': 0.7190357451627541, 'subsample': 1.0, 'colsample_bytree': 1.0}\n",
      "Iteration No: 22 ended. Search finished for the next optimal point.\n",
      "Time taken: 150.0244\n",
      "Function value obtained: 0.4452\n",
      "Current minimum: 0.4433\n",
      "Iteration No: 23 started. Searching for the next optimal point.\n",
      "{'max_depth': 10, 'eta': 0.70360857193642, 'subsample': 1.0, 'colsample_bytree': 0.5}\n",
      "Iteration No: 23 ended. Search finished for the next optimal point.\n",
      "Time taken: 25.1619\n",
      "Function value obtained: 0.4686\n",
      "Current minimum: 0.4433\n",
      "Iteration No: 24 started. Searching for the next optimal point.\n",
      "{'max_depth': 2, 'eta': 0.20567544834024823, 'subsample': 0.5, 'colsample_bytree': 1.0}\n",
      "Iteration No: 24 ended. Search finished for the next optimal point.\n",
      "Time taken: 218.9823\n",
      "Function value obtained: 0.4456\n",
      "Current minimum: 0.4433\n",
      "Iteration No: 25 started. Searching for the next optimal point.\n",
      "{'max_depth': 10, 'eta': 0.26032324999984974, 'subsample': 0.5, 'colsample_bytree': 0.5}\n",
      "Iteration No: 25 ended. Search finished for the next optimal point.\n",
      "Time taken: 57.7506\n",
      "Function value obtained: 0.4534\n",
      "Current minimum: 0.4433\n",
      "Iteration No: 26 started. Searching for the next optimal point.\n",
      "{'max_depth': 2, 'eta': 0.7560044509106808, 'subsample': 1.0, 'colsample_bytree': 1.0}\n",
      "Iteration No: 26 ended. Search finished for the next optimal point.\n",
      "Time taken: 93.0747\n",
      "Function value obtained: 0.4456\n",
      "Current minimum: 0.4433\n",
      "Iteration No: 27 started. Searching for the next optimal point.\n",
      "{'max_depth': 2, 'eta': 0.4631088649861478, 'subsample': 1.0, 'colsample_bytree': 1.0}\n",
      "Iteration No: 27 ended. Search finished for the next optimal point.\n",
      "Time taken: 245.3945\n",
      "Function value obtained: 0.4431\n",
      "Current minimum: 0.4431\n",
      "Iteration No: 28 started. Searching for the next optimal point.\n",
      "{'max_depth': 2, 'eta': 0.4013583372731859, 'subsample': 1.0, 'colsample_bytree': 1.0}\n"
     ]
    },
    {
     "name": "stdout",
     "output_type": "stream",
     "text": [
      "Iteration No: 28 ended. Search finished for the next optimal point.\n",
      "Time taken: 257.6117\n",
      "Function value obtained: 0.4436\n",
      "Current minimum: 0.4431\n",
      "Iteration No: 29 started. Searching for the next optimal point.\n",
      "{'max_depth': 2, 'eta': 0.3135216254873704, 'subsample': 1.0, 'colsample_bytree': 1.0}\n",
      "Iteration No: 29 ended. Search finished for the next optimal point.\n",
      "Time taken: 215.4357\n",
      "Function value obtained: 0.4435\n",
      "Current minimum: 0.4431\n",
      "Iteration No: 30 started. Searching for the next optimal point.\n",
      "{'max_depth': 2, 'eta': 0.5834632104916281, 'subsample': 0.5, 'colsample_bytree': 0.5}\n",
      "Iteration No: 30 ended. Search finished for the next optimal point.\n",
      "Time taken: 88.2834\n",
      "Function value obtained: 0.4508\n",
      "Current minimum: 0.4431\n"
     ]
    }
   ],
   "source": [
    "gp = gp_minimize(objective,space,n_calls=30,random_state=1, verbose=True)"
   ]
  },
  {
   "cell_type": "code",
   "execution_count": 20,
   "metadata": {},
   "outputs": [
    {
     "name": "stdout",
     "output_type": "stream",
     "text": [
      "Max-depth:  2  eta:  0.4631088649861478  Subsample:  1.0 colsample_bytree:  1.0\n"
     ]
    }
   ],
   "source": [
    "print('Max-depth: ', gp.x[0],' eta: ',gp.x[1],' Subsample: ',gp.x[2],'colsample_bytree: ', gp.x[3])"
   ]
  },
  {
   "cell_type": "code",
   "execution_count": 21,
   "metadata": {},
   "outputs": [
    {
     "data": {
      "text/plain": [
       "0.4430534"
      ]
     },
     "execution_count": 21,
     "metadata": {},
     "output_type": "execute_result"
    }
   ],
   "source": [
    "gp.fun"
   ]
  },
  {
   "cell_type": "code",
   "execution_count": 22,
   "metadata": {},
   "outputs": [],
   "source": [
    "# Retraining on best Hyperparam:\n",
    "params = {'max_depth': gp.x[0], \n",
    "        'eta': gp.x[1],\n",
    "        'subsample':gp.x[2],\n",
    "        'colsample_bytree':gp.x[3]}\n",
    "model = xgb.train(params, dtrain, num_boost_round=1000)"
   ]
  },
  {
   "cell_type": "code",
   "execution_count": 23,
   "metadata": {},
   "outputs": [
    {
     "data": {
      "text/html": [
       "<div>\n",
       "<style scoped>\n",
       "    .dataframe tbody tr th:only-of-type {\n",
       "        vertical-align: middle;\n",
       "    }\n",
       "\n",
       "    .dataframe tbody tr th {\n",
       "        vertical-align: top;\n",
       "    }\n",
       "\n",
       "    .dataframe thead th {\n",
       "        text-align: right;\n",
       "    }\n",
       "</style>\n",
       "<table border=\"1\" class=\"dataframe\">\n",
       "  <thead>\n",
       "    <tr style=\"text-align: right;\">\n",
       "      <th></th>\n",
       "      <th>id</th>\n",
       "      <th>loss</th>\n",
       "    </tr>\n",
       "  </thead>\n",
       "  <tbody>\n",
       "    <tr>\n",
       "      <th>0</th>\n",
       "      <td>4</td>\n",
       "      <td>1565.612427</td>\n",
       "    </tr>\n",
       "    <tr>\n",
       "      <th>1</th>\n",
       "      <td>6</td>\n",
       "      <td>2212.964600</td>\n",
       "    </tr>\n",
       "    <tr>\n",
       "      <th>2</th>\n",
       "      <td>9</td>\n",
       "      <td>5773.757812</td>\n",
       "    </tr>\n",
       "    <tr>\n",
       "      <th>3</th>\n",
       "      <td>12</td>\n",
       "      <td>5982.799316</td>\n",
       "    </tr>\n",
       "    <tr>\n",
       "      <th>4</th>\n",
       "      <td>15</td>\n",
       "      <td>794.446167</td>\n",
       "    </tr>\n",
       "  </tbody>\n",
       "</table>\n",
       "</div>"
      ],
      "text/plain": [
       "   id         loss\n",
       "0   4  1565.612427\n",
       "1   6  2212.964600\n",
       "2   9  5773.757812\n",
       "3  12  5982.799316\n",
       "4  15   794.446167"
      ]
     },
     "execution_count": 23,
     "metadata": {},
     "output_type": "execute_result"
    }
   ],
   "source": [
    "pred = np.exp(model.predict(dtest))\n",
    "submission['loss'] = pred\n",
    "submission.to_csv('xgboost_trigram.csv',index=False)\n",
    "submission.head()"
   ]
  },
  {
   "attachments": {
    "xgboost_trigram.png": {
     "image/png": "[encoded data removed]"
    }
   },
   "cell_type": "markdown",
   "metadata": {},
   "source": [
    "**Score obtained after submitting on kaggle:**\n",
    "![xgboost_trigram.png](attachment:xgboost_trigram.png)"
   ]
  },
  {
   "cell_type": "markdown",
   "metadata": {},
   "source": [
    "## Summary/Conclusion"
   ]
  },
  {
   "cell_type": "markdown",
   "metadata": {},
   "source": [
    "After completeing the pre-processing part, next step is to apply some ML algorithms which is covered in this notebook. I worked with 2 sets of feature: one with bigrams(1000 features) and another with trigram(1000 features). Also Bayesian Optimization is used for hyperparameter tuning instead of GridSearchCV, because of Bayesian Optimization method is faster. Table below shows there performance and the score noted there is means absolute error:"
   ]
  },
  {
   "cell_type": "code",
   "execution_count": 1,
   "metadata": {},
   "outputs": [
    {
     "name": "stdout",
     "output_type": "stream",
     "text": [
      "Benchmark Score:  1966  mae\n",
      "+-------------+-------------+---------------+\n",
      "| Feature Set |    Model    | Private Score |\n",
      "+-------------+-------------+---------------+\n",
      "|    Bigram   | Elastic-net |    1373.95    |\n",
      "|    Bigram   |   xgboost   |    1284.47    |\n",
      "|   Trigram   | Elastic-net |    1305.67    |\n",
      "|   Trigram   |   xgboost   |    1228.07    |\n",
      "+-------------+-------------+---------------+\n"
     ]
    }
   ],
   "source": [
    "from prettytable import PrettyTable\n",
    "x = PrettyTable()\n",
    "x.field_names = ['Feature Set', 'Model','Private Score']\n",
    "x.add_row(['Bigram','Elastic-net','1373.95'])\n",
    "x.add_row(['Bigram','xgboost','1284.47'])\n",
    "x.add_row(['Trigram','Elastic-net','1305.67'])\n",
    "x.add_row(['Trigram','xgboost','1228.07'])\n",
    "print('Benchmark Score: ',1966,' mae')\n",
    "print(x)"
   ]
  },
  {
   "cell_type": "markdown",
   "metadata": {},
   "source": [
    "* Trigram set Features performed better than bigram set.\n",
    "* Xgboost always performed better than Elasticnet.\n",
    "* Best performing model is xgboost with 1000 trigram set of features and kaggle score obtained is 1228.07 MAE.\n",
    "* Future work that can be tried to imporve the scores are, deep learning models can be tried. Some more classical ML algorithms can also be applied. Some more new features can be improvised for example feature representing each points belonging to some kind of cluster."
   ]
  }
 ],
 "metadata": {
  "kernelspec": {
   "display_name": "Python 3",
   "language": "python",
   "name": "python3"
  },
  "language_info": {
   "codemirror_mode": {
    "name": "ipython",
    "version": 3
   },
   "file_extension": ".py",
   "mimetype": "text/x-python",
   "name": "python",
   "nbconvert_exporter": "python",
   "pygments_lexer": "ipython3",
   "version": "3.8.2"
  }
 },
 "nbformat": 4,
 "nbformat_minor": 4
}
